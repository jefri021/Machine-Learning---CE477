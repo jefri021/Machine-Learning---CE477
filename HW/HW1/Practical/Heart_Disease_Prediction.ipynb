{
  "cells": [
    {
      "cell_type": "markdown",
      "metadata": {
        "id": "8QU5zmW1lBAi"
      },
      "source": [
        "In this notebook, we are looking for the diagnosis of heart disease among patients using the [heart disease dataset](https://www.kaggle.com/johnsmith88/heart-disease-dataset). First, read the information about the different features, then answer the questions in each section using the attached data."
      ]
    },
    {
      "cell_type": "markdown",
      "metadata": {
        "id": "utNwgYmlKvfm"
      },
      "source": [
        "# Data"
      ]
    },
    {
      "cell_type": "markdown",
      "metadata": {
        "id": "bjntS4nxH4Hs"
      },
      "source": [
        "## Importing Libraries"
      ]
    },
    {
      "cell_type": "markdown",
      "metadata": {
        "id": "ycgOZilIJ-IO"
      },
      "source": [
        "In this notebook, you cannot use scikit learn and other libraries, except for those imported below."
      ]
    },
    {
      "cell_type": "code",
      "execution_count": 1,
      "metadata": {
        "id": "RA04oziCHqpP"
      },
      "outputs": [],
      "source": [
        "import pandas as pd\n",
        "import numpy as np\n",
        "import matplotlib.pyplot as plt\n",
        "import seaborn as sns"
      ]
    },
    {
      "cell_type": "markdown",
      "metadata": {
        "id": "TNo6F7XEH7p3"
      },
      "source": [
        "## Load Dataset"
      ]
    },
    {
      "cell_type": "markdown",
      "metadata": {
        "id": "Q1KtMuwCmomz"
      },
      "source": [
        "Load dataset csv file into a data frame."
      ]
    },
    {
      "cell_type": "code",
      "execution_count": 2,
      "metadata": {
        "id": "m7Z3egeyH-g9"
      },
      "outputs": [
        {
          "data": {
            "text/html": [
              "<div>\n",
              "<style scoped>\n",
              "    .dataframe tbody tr th:only-of-type {\n",
              "        vertical-align: middle;\n",
              "    }\n",
              "\n",
              "    .dataframe tbody tr th {\n",
              "        vertical-align: top;\n",
              "    }\n",
              "\n",
              "    .dataframe thead th {\n",
              "        text-align: right;\n",
              "    }\n",
              "</style>\n",
              "<table border=\"1\" class=\"dataframe\">\n",
              "  <thead>\n",
              "    <tr style=\"text-align: right;\">\n",
              "      <th></th>\n",
              "      <th>age</th>\n",
              "      <th>sex</th>\n",
              "      <th>cp</th>\n",
              "      <th>trestbps</th>\n",
              "      <th>chol</th>\n",
              "      <th>fbs</th>\n",
              "      <th>restecg</th>\n",
              "      <th>thalach</th>\n",
              "      <th>exang</th>\n",
              "      <th>oldpeak</th>\n",
              "      <th>slope</th>\n",
              "      <th>ca</th>\n",
              "      <th>thal</th>\n",
              "      <th>target</th>\n",
              "    </tr>\n",
              "  </thead>\n",
              "  <tbody>\n",
              "    <tr>\n",
              "      <th>0</th>\n",
              "      <td>52</td>\n",
              "      <td>1</td>\n",
              "      <td>0</td>\n",
              "      <td>125</td>\n",
              "      <td>212</td>\n",
              "      <td>0</td>\n",
              "      <td>1</td>\n",
              "      <td>168</td>\n",
              "      <td>0</td>\n",
              "      <td>1.0</td>\n",
              "      <td>2</td>\n",
              "      <td>2</td>\n",
              "      <td>3</td>\n",
              "      <td>0</td>\n",
              "    </tr>\n",
              "    <tr>\n",
              "      <th>1</th>\n",
              "      <td>53</td>\n",
              "      <td>1</td>\n",
              "      <td>0</td>\n",
              "      <td>140</td>\n",
              "      <td>203</td>\n",
              "      <td>1</td>\n",
              "      <td>0</td>\n",
              "      <td>155</td>\n",
              "      <td>1</td>\n",
              "      <td>3.1</td>\n",
              "      <td>0</td>\n",
              "      <td>0</td>\n",
              "      <td>3</td>\n",
              "      <td>0</td>\n",
              "    </tr>\n",
              "    <tr>\n",
              "      <th>2</th>\n",
              "      <td>70</td>\n",
              "      <td>1</td>\n",
              "      <td>0</td>\n",
              "      <td>145</td>\n",
              "      <td>174</td>\n",
              "      <td>0</td>\n",
              "      <td>1</td>\n",
              "      <td>125</td>\n",
              "      <td>1</td>\n",
              "      <td>2.6</td>\n",
              "      <td>0</td>\n",
              "      <td>0</td>\n",
              "      <td>3</td>\n",
              "      <td>0</td>\n",
              "    </tr>\n",
              "    <tr>\n",
              "      <th>3</th>\n",
              "      <td>61</td>\n",
              "      <td>1</td>\n",
              "      <td>0</td>\n",
              "      <td>148</td>\n",
              "      <td>203</td>\n",
              "      <td>0</td>\n",
              "      <td>1</td>\n",
              "      <td>161</td>\n",
              "      <td>0</td>\n",
              "      <td>0.0</td>\n",
              "      <td>2</td>\n",
              "      <td>1</td>\n",
              "      <td>3</td>\n",
              "      <td>0</td>\n",
              "    </tr>\n",
              "    <tr>\n",
              "      <th>4</th>\n",
              "      <td>62</td>\n",
              "      <td>0</td>\n",
              "      <td>0</td>\n",
              "      <td>138</td>\n",
              "      <td>294</td>\n",
              "      <td>1</td>\n",
              "      <td>1</td>\n",
              "      <td>106</td>\n",
              "      <td>0</td>\n",
              "      <td>1.9</td>\n",
              "      <td>1</td>\n",
              "      <td>3</td>\n",
              "      <td>2</td>\n",
              "      <td>0</td>\n",
              "    </tr>\n",
              "  </tbody>\n",
              "</table>\n",
              "</div>"
            ],
            "text/plain": [
              "   age  sex  cp  trestbps  chol  fbs  restecg  thalach  exang  oldpeak  slope  \\\n",
              "0   52    1   0       125   212    0        1      168      0      1.0      2   \n",
              "1   53    1   0       140   203    1        0      155      1      3.1      0   \n",
              "2   70    1   0       145   174    0        1      125      1      2.6      0   \n",
              "3   61    1   0       148   203    0        1      161      0      0.0      2   \n",
              "4   62    0   0       138   294    1        1      106      0      1.9      1   \n",
              "\n",
              "   ca  thal  target  \n",
              "0   2     3       0  \n",
              "1   0     3       0  \n",
              "2   0     3       0  \n",
              "3   1     3       0  \n",
              "4   3     2       0  "
            ]
          },
          "execution_count": 2,
          "metadata": {},
          "output_type": "execute_result"
        }
      ],
      "source": [
        "# TODO\n",
        "df = pd.read_csv('heart.csv')\n",
        "df.head()"
      ]
    },
    {
      "cell_type": "markdown",
      "metadata": {
        "id": "phw5_4uEIgyY"
      },
      "source": [
        "## EDA"
      ]
    },
    {
      "cell_type": "markdown",
      "metadata": {
        "id": "NkxL1k5Onuvj"
      },
      "source": [
        "In statistics, exploratory data analysis (EDA) is an approach to analyzing data sets to summarize their main characteristics, often using statistical graphics and other data visualization methods. In this section, you should analyze the data. You can use the functions provided by the Pandas library. You can use analysis such as null checking of features, number of features and samples, and type of features. But don't stop there and search for it.\n"
      ]
    },
    {
      "cell_type": "code",
      "execution_count": 3,
      "metadata": {
        "id": "-2qsSen8X1qv"
      },
      "outputs": [
        {
          "data": {
            "text/plain": [
              "Text(0.5, 0, 'age')"
            ]
          },
          "execution_count": 3,
          "metadata": {},
          "output_type": "execute_result"
        },
        {
          "data": {
            "image/png": "[encoded data removed]",
            "text/plain": [
              "<Figure size 640x480 with 1 Axes>"
            ]
          },
          "metadata": {},
          "output_type": "display_data"
        }
      ],
      "source": [
        "df.dropna(inplace=True)\n",
        "age_target = df.filter(items=['age','target'])\n",
        "age_target_1 = age_target[age_target['target'] == 1]\n",
        "plt.hist(age_target['age'], bins=15, edgecolor='black')\n",
        "plt.hist(age_target_1['age'], bins=15, edgecolor='black', color='red', alpha=0.8)\n",
        "plt.xlabel('age')\n"
      ]
    },
    {
      "cell_type": "code",
      "execution_count": 4,
      "metadata": {},
      "outputs": [
        {
          "data": {
            "text/plain": [
              "Text(0.5, 0, 'chol')"
            ]
          },
          "execution_count": 4,
          "metadata": {},
          "output_type": "execute_result"
        },
        {
          "data": {
            "image/png": "[encoded data removed]",
            "text/plain": [
              "<Figure size 640x480 with 1 Axes>"
            ]
          },
          "metadata": {},
          "output_type": "display_data"
        }
      ],
      "source": [
        "chol_target = df.filter(items=['chol','target'])\n",
        "chol_target_1 = chol_target[chol_target['target'] == 1]\n",
        "plt.hist(chol_target['chol'], bins=15, edgecolor='black')\n",
        "plt.hist(chol_target_1['chol'], bins=15, edgecolor='black', color='red', alpha=0.8)\n",
        "plt.xlabel('chol')"
      ]
    },
    {
      "cell_type": "code",
      "execution_count": 5,
      "metadata": {},
      "outputs": [
        {
          "data": {
            "text/plain": [
              "Text(0.5, 0, 'sex')"
            ]
          },
          "execution_count": 5,
          "metadata": {},
          "output_type": "execute_result"
        },
        {
          "data": {
            "image/png": "[encoded data removed]",
            "text/plain": [
              "<Figure size 640x480 with 1 Axes>"
            ]
          },
          "metadata": {},
          "output_type": "display_data"
        }
      ],
      "source": [
        "sex_target = df.filter(items=['sex','target'])\n",
        "sex_target_1 = sex_target[sex_target['target'] == 1]\n",
        "plt.hist(sex_target['sex'], bins=2, edgecolor='black')\n",
        "plt.hist(sex_target_1['sex'], bins=2, edgecolor='black', color='red', alpha=0.8)\n",
        "plt.xlabel('sex')"
      ]
    },
    {
      "cell_type": "markdown",
      "metadata": {
        "id": "NOo1N_ZaKHPg"
      },
      "source": [
        "## Analysis of Features"
      ]
    },
    {
      "cell_type": "markdown",
      "metadata": {
        "id": "1fnTddu9sTll"
      },
      "source": [
        "As you have probably noticed, in the dataset that you checked, some features are discrete and the rest are continuous. The following code specifies continuous and discrete features for you. **Note**: In the cells below, `df` is the same dataframe that you loaded in the previous section. You can change its name according to your code."
      ]
    },
    {
      "cell_type": "code",
      "execution_count": 6,
      "metadata": {
        "colab": {
          "base_uri": "https://localhost:8080/"
        },
        "id": "RIcPajwSJj11",
        "outputId": "d9551a1e-e668-4d00-8dce-87c48bb62673"
      },
      "outputs": [
        {
          "name": "stdout",
          "output_type": "stream",
          "text": [
            "There are 14 features found in the data\n"
          ]
        }
      ],
      "source": [
        "feature_list = [feature for feature in df.columns]\n",
        "print(\"There are\",len(feature_list),\"features found in the data\")"
      ]
    },
    {
      "cell_type": "code",
      "execution_count": 7,
      "metadata": {
        "colab": {
          "base_uri": "https://localhost:8080/"
        },
        "id": "o3n2gCAoJmdr",
        "outputId": "65132134-22aa-49bb-8d40-384f016f09ab"
      },
      "outputs": [
        {
          "name": "stdout",
          "output_type": "stream",
          "text": [
            "Discrete Variables Count: 9\n",
            "Discrete features are  ['sex', 'cp', 'fbs', 'restecg', 'exang', 'slope', 'ca', 'thal', 'target']\n",
            "Continuous Variables Count: 5\n",
            "Continuous features are  ['age', 'trestbps', 'chol', 'thalach', 'oldpeak']\n"
          ]
        }
      ],
      "source": [
        "#Print Discrete Feature Data\n",
        "discrete_feature=[feature for feature in feature_list if len(df[feature].unique())<25]\n",
        "print(\"Discrete Variables Count: {}\".format(len(discrete_feature)))\n",
        "print(\"Discrete features are \",discrete_feature)\n",
        "\n",
        "#Print Continuous Feature Data\n",
        "cont_feature=[feature for feature in feature_list if len(df[feature].unique())>25]\n",
        "print(\"Continuous Variables Count: {}\".format(len(cont_feature)))\n",
        "print(\"Continuous features are \",cont_feature)"
      ]
    },
    {
      "cell_type": "markdown",
      "metadata": {
        "id": "zygi7E6ekk4q"
      },
      "source": [
        "# Perceptron"
      ]
    },
    {
      "cell_type": "markdown",
      "metadata": {
        "id": "js3fx5A2lnR6"
      },
      "source": [
        "### Stochastic Gradient Descent\n",
        "\n",
        "We will implement the perceptron algorithm in python 3 and numpy. The perceptron will learn using the stochastic gradient descent algorithm (SGD). Gradient Descent minimizes a function by following the gradients of the cost function.\n",
        "\n",
        "### Calculating the Error\n",
        "\n",
        "To calculate the error of a prediction we first need to define the objective function of the perceptron.\n",
        "\n",
        "#### Hinge Loss Function\n",
        "\n",
        "To do this, we need to define the loss function, to calculate the prediction error. We will use hinge loss for our perceptron:\n",
        "\n",
        "$$c(x, y, f(x)) = (1 - y * f(x))_+$$\n",
        "\n",
        "$c$ is the loss function, $x$ the sample, $y$ is the true label, $f(x)$ the predicted label."
      ]
    },
    {
      "cell_type": "markdown",
      "metadata": {
        "id": "XQRK4oiglp2z"
      },
      "source": [
        "This means the following:\n",
        "$$\n",
        "c(x, y, f(x))=\n",
        "\\begin{cases}\n",
        "    0,& \\text{if } y * f(x)\\geq 1\\\\\n",
        "    1-y*f(x),              & \\text{else}\n",
        "\\end{cases}\n",
        "$$\n",
        "\n",
        "So consider, if y and f(x) are signed values $(+1,-1)$:\n",
        "\n",
        "<ul>\n",
        "    <li>the loss is 0, if $y*f(x)$ are positive, respective both values have the same sign.</li>\n",
        "    <li>loss is $1-y*f(x)$ if $y*f(x)$ is negative</li>\n",
        "</ul>\n",
        "\n",
        "#### Objective Function\n",
        "\n",
        "As we defined the loss function, we can now define the objective function for the perceptron:\n",
        "\n",
        "$$l_i(w) = \\big(-y_i \\langle x_i,w \\rangle\\big)_+$$\n",
        "\n",
        "We can write this without the dot product with a sum sign:\n",
        "\n",
        "$$l_i(w) = (-y_i \\sum_{i=1}^n x_iw)_+$$\n",
        "\n",
        "So the sample $x_i$ is misclassified, if $y_i \\langle x_i,w \\rangle \\leq 0$. The general goal is, to find the global minima of this function, respectively find a parameter $w$, where the error is zero.\n",
        "\n",
        "#### Derive the Objective Function\n",
        "\n",
        "To do this we need the gradients of the objective function. The gradient of a function $f$ is the vector of its partial derivatives. The gradient can be calculated by the partially derivative of the objective function.\n",
        "\n",
        "$$ \\nabla l_i(w) = -y_i x_i $$\n",
        "\n",
        "\n",
        "This means, if we have a misclassified sample $x_i$, respectively $ y_i \\langle x_i,w \\rangle \\leq 0 $, update the weight vector\n",
        "$w$ by moving it in the direction of the misclassified sample.\n",
        "\n",
        "\n",
        "$$w = w + y_i x_i$$\n",
        "\n",
        "With this update rule in mind, we can start writing our perceptron algorithm in python."
      ]
    },
    {
      "cell_type": "markdown",
      "metadata": {
        "id": "_eiYih0TmZhr"
      },
      "source": [
        "## Model"
      ]
    },
    {
      "cell_type": "markdown",
      "metadata": {
        "id": "i_91Dsdlmwvr"
      },
      "source": [
        "\n",
        "Finally we can code our SGD algorithm using our update rule. To keep it simple, we will linearly loop over the sample set. For larger data sets it makes sence, to randomly pick a sample during each iteration in the for-loop."
      ]
    },
    {
      "cell_type": "code",
      "execution_count": 8,
      "metadata": {
        "id": "dpCynLlEmxQY"
      },
      "outputs": [],
      "source": [
        "def perceptron_sgd(X, Y):\n",
        "    n_features = X.shape[1]\n",
        "    w = np.zeros(n_features)\n",
        "    epochs = 100\n",
        "    for epoch in range(epochs):\n",
        "        for x_i, y_i in zip(X, Y):\n",
        "            if y_i * np.dot(x_i, w) <= 0:\n",
        "                w = w + y_i * x_i\n",
        "    return w\n"
      ]
    },
    {
      "cell_type": "markdown",
      "metadata": {
        "id": "1tIY7wrXm5FZ"
      },
      "source": [
        "### Let the Perceptron learn!\n",
        "\n",
        "Next we can execute our code to train a classifier model. To see the learning progress of the perceptron, we add a plotting feature to our algorithm, counting the total error in each epoch."
      ]
    },
    {
      "cell_type": "code",
      "execution_count": 9,
      "metadata": {
        "id": "MJFiM-IBm9xV"
      },
      "outputs": [],
      "source": [
        "import numpy as np\n",
        "import matplotlib.pyplot as plt\n",
        "\n",
        "def perceptron_sgd_plot(X, Y):\n",
        "    n_features = X.shape[1]\n",
        "    w = np.zeros(n_features)\n",
        "    errors = []\n",
        "    epochs = 200\n",
        "    for epoch in range(epochs):\n",
        "        total_loss = 0\n",
        "        for x_i, y_i in zip(X, Y):\n",
        "            if y_i * np.dot(x_i, w) <= 0:\n",
        "                w = w + y_i * x_i\n",
        "                total_loss += 1\n",
        "        errors.append(total_loss)\n",
        "\n",
        "    plt.plot(errors)\n",
        "    plt.xlabel('Epoch')\n",
        "    plt.ylabel('Total Loss')\n",
        "\n",
        "    return w\n"
      ]
    },
    {
      "cell_type": "code",
      "execution_count": 10,
      "metadata": {
        "id": "hG3b6rbvp_T0"
      },
      "outputs": [],
      "source": [
        "X = df[['sex', 'cp', 'fbs', 'restecg', 'exang', 'slope', 'ca', 'thal', 'age', 'trestbps', 'chol', 'thalach', 'oldpeak']].to_numpy()\n",
        "y = df.loc[:, \"target\"].to_numpy()\n",
        "y[y == 0] = -1"
      ]
    },
    {
      "cell_type": "code",
      "execution_count": 11,
      "metadata": {
        "id": "z0kQs1yip0Qm"
      },
      "outputs": [],
      "source": [
        "# TODO: Add a bias term -1 into the dataset. This is needed for the SGD to work.\n",
        "\n",
        "# add a -1 bias term to the end of each row\n",
        "bias_column = np.ones((X.shape[0], 1)) * -1\n",
        "\n",
        "# Concatenate the original X with the bias column\n",
        "X = np.hstack((X, bias_column))"
      ]
    },
    {
      "cell_type": "code",
      "execution_count": 12,
      "metadata": {
        "id": "yz313F2ep3St"
      },
      "outputs": [
        {
          "name": "stdout",
          "output_type": "stream",
          "text": [
            "X_train shape: (820, 14)\n",
            "X_val shape: (205, 14)\n",
            "y_train shape: (820,)\n",
            "y_val shape: (205,)\n"
          ]
        }
      ],
      "source": [
        "from sklearn.model_selection import train_test_split\n",
        "X_train, X_val, y_train, y_val = train_test_split(X, y, test_size=0.2, random_state=30)\n",
        "# Print the shapes of the resulting arrays to verify the split\n",
        "print(\"X_train shape:\", X_train.shape)\n",
        "print(\"X_val shape:\", X_val.shape)\n",
        "print(\"y_train shape:\", y_train.shape)\n",
        "print(\"y_val shape:\", y_val.shape)"
      ]
    },
    {
      "cell_type": "code",
      "execution_count": 13,
      "metadata": {
        "id": "vza_Q_Gim_cf"
      },
      "outputs": [
        {
          "name": "stdout",
          "output_type": "stream",
          "text": [
            "[ -6095.   14820.     187.     274.   -9026.    5032.  -14169.   -9838.\n",
            "    248.    -409.    -354.    1278.  -13406.7    194. ]\n"
          ]
        },
        {
          "data": {
            "image/png": "[encoded data removed]",
            "text/plain": [
              "<Figure size 640x480 with 1 Axes>"
            ]
          },
          "metadata": {},
          "output_type": "display_data"
        }
      ],
      "source": [
        "w = perceptron_sgd_plot(X_train,y_train)\n",
        "print(w)"
      ]
    },
    {
      "cell_type": "markdown",
      "metadata": {
        "id": "GoPThTyLnd0N"
      },
      "source": [
        "### Accuracy"
      ]
    },
    {
      "cell_type": "markdown",
      "metadata": {
        "id": "ARKTa6f2n4v0"
      },
      "source": [
        "\n",
        "Implement the `accuracy_score` function by considering the predictions and true labels."
      ]
    },
    {
      "cell_type": "code",
      "execution_count": 14,
      "metadata": {
        "id": "lkHOtSEYnePG"
      },
      "outputs": [],
      "source": [
        "def accuracy_score(y_true, y_pred):\n",
        "    return len([i for i in range(len(y_true)) if y_true[i] == y_pred[i]]) / len(y_true)"
      ]
    },
    {
      "cell_type": "markdown",
      "metadata": {
        "id": "9sE-fMyLn9b9"
      },
      "source": [
        "Get the accuracy of your model using the function you implemented."
      ]
    },
    {
      "cell_type": "code",
      "execution_count": 15,
      "metadata": {
        "id": "DEvjAMiUn9t_"
      },
      "outputs": [
        {
          "name": "stdout",
          "output_type": "stream",
          "text": [
            "0.7902439024390244\n"
          ]
        }
      ],
      "source": [
        "# TODO\n",
        "predictions = np.sign(np.dot(X_val, w))\n",
        "print(accuracy_score(y_val, predictions))"
      ]
    },
    {
      "cell_type": "markdown",
      "metadata": {
        "id": "54V2QMyQoAQr"
      },
      "source": [
        "### Confusion Matrix"
      ]
    },
    {
      "cell_type": "markdown",
      "metadata": {
        "id": "f5cheWvWnjVR"
      },
      "source": [
        "Implement the `confusion_matrix` function to generate the confusion matrix by receiving the predicted labels, the real labels and the labels themselves."
      ]
    },
    {
      "cell_type": "code",
      "execution_count": 16,
      "metadata": {
        "id": "Kv6PgYmgoGtJ"
      },
      "outputs": [],
      "source": [
        "import numpy as np\n",
        "\n",
        "def confusion_matrix(actual, predicted, labels):\n",
        "    n_classes = len(labels)\n",
        "    matrix = np.zeros((n_classes, n_classes))\n",
        "\n",
        "    for a, p in zip(actual, predicted):\n",
        "        matrix[labels.index(a), labels.index(p)] += 1\n",
        "\n",
        "    return matrix\n"
      ]
    },
    {
      "cell_type": "markdown",
      "metadata": {
        "id": "JhtEA4xRoKMx"
      },
      "source": [
        "Implement the following function to plot the confusion matrix obtained from the previous part."
      ]
    },
    {
      "cell_type": "code",
      "execution_count": 17,
      "metadata": {
        "id": "1zBnY2ALoNY5"
      },
      "outputs": [],
      "source": [
        "import numpy as np\n",
        "import matplotlib.pyplot as plt\n",
        "\n",
        "def plot_confusion_matrix(matrix, labels):\n",
        "    fig, ax = plt.subplots()\n",
        "    cax = ax.matshow(matrix, cmap='Blues')\n",
        "    fig.colorbar(cax)\n",
        "    ax.set_xticklabels([''] + labels)\n",
        "    ax.set_yticklabels([''] + labels)\n",
        "    ax.set_xlabel('Predicted Label')\n",
        "    ax.set_ylabel('True Label')\n",
        "    for i in range(len(labels)):\n",
        "        for j in range(len(labels)):\n",
        "            ax.text(j, i, str(matrix[i, j]), ha='center', va='center')\n",
        "    plt.show()\n"
      ]
    },
    {
      "cell_type": "markdown",
      "metadata": {
        "id": "CQhj0HS8odjN"
      },
      "source": [
        "Now plot the confusion matrix for your model:"
      ]
    },
    {
      "cell_type": "code",
      "execution_count": 18,
      "metadata": {
        "id": "KNswewkkodPS"
      },
      "outputs": [
        {
          "name": "stderr",
          "output_type": "stream",
          "text": [
            "C:\\Users\\Erfan\\AppData\\Local\\Temp\\ipykernel_20048\\1311168607.py:8: UserWarning: set_ticklabels() should only be used with a fixed number of ticks, i.e. after set_ticks() or using a FixedLocator.\n",
            "  ax.set_xticklabels([''] + labels)\n",
            "C:\\Users\\Erfan\\AppData\\Local\\Temp\\ipykernel_20048\\1311168607.py:9: UserWarning: set_ticklabels() should only be used with a fixed number of ticks, i.e. after set_ticks() or using a FixedLocator.\n",
            "  ax.set_yticklabels([''] + labels)\n"
          ]
        },
        {
          "data": {
            "image/png": "[encoded data removed]",
            "text/plain": [
              "<Figure size 640x480 with 2 Axes>"
            ]
          },
          "metadata": {},
          "output_type": "display_data"
        }
      ],
      "source": [
        "my_confusion_matrix = confusion_matrix(y_val, predictions, [1, -1])\n",
        "plot_confusion_matrix(my_confusion_matrix, [1, -1])"
      ]
    },
    {
      "cell_type": "markdown",
      "metadata": {
        "id": "0u9hzezSo48b"
      },
      "source": [
        "### F1 Score"
      ]
    },
    {
      "cell_type": "markdown",
      "metadata": {
        "id": "LV2lhF-xo7tG"
      },
      "source": [
        "Implement the following functions to calculate precision, recall and [F1 score](https://en.wikipedia.org/wiki/F-score) using confusion matrix. Then calculate all three metrics for your model."
      ]
    },
    {
      "cell_type": "code",
      "execution_count": 19,
      "metadata": {
        "id": "5H5x1seOo7-m"
      },
      "outputs": [
        {
          "name": "stdout",
          "output_type": "stream",
          "text": [
            "[0.96078431 0.62135922]\n"
          ]
        }
      ],
      "source": [
        "def recall_score(cm):\n",
        "    recall_scores = np.zeros(2, dtype=np.float64)\n",
        "    for i in range(2):\n",
        "        true_positives = cm[i, i]\n",
        "        false_negatives = np.sum(cm[i, :]) - true_positives\n",
        "        recall_scores[i] = true_positives / (true_positives + false_negatives) if true_positives + false_negatives != 0 else 0\n",
        "    return recall_scores\n",
        "\n",
        "print(recall_score(my_confusion_matrix))"
      ]
    },
    {
      "cell_type": "code",
      "execution_count": 20,
      "metadata": {
        "id": "1-jnEGfXo-CO"
      },
      "outputs": [
        {
          "name": "stdout",
          "output_type": "stream",
          "text": [
            "[0.71532847 0.94117647]\n"
          ]
        }
      ],
      "source": [
        "def precision_score(cm):\n",
        "    precision_scores = np.zeros(2, dtype=np.float64)\n",
        "    for i in range(2):\n",
        "        true_positives = cm[i, i]\n",
        "        false_positives = np.sum(cm[:, i]) - true_positives\n",
        "        precision_scores[i] = true_positives / (true_positives + false_positives) if true_positives + false_positives != 0 else 0\n",
        "    return precision_scores\n",
        "\n",
        "print(precision_score(my_confusion_matrix))"
      ]
    },
    {
      "cell_type": "code",
      "execution_count": 21,
      "metadata": {
        "id": "elp_Y21uo_11"
      },
      "outputs": [
        {
          "name": "stdout",
          "output_type": "stream",
          "text": [
            "[0.82008368 0.74853801]\n"
          ]
        }
      ],
      "source": [
        "def f1_score(cm):\n",
        "    f1_scores = 2 * (precision_score(cm) * recall_score(cm)) / (precision_score(cm) + recall_score(cm))\n",
        "    return f1_scores\n",
        "\n",
        "print(f1_score(my_confusion_matrix))"
      ]
    },
    {
      "cell_type": "markdown",
      "metadata": {
        "id": "GSMb1HLNL5BB"
      },
      "source": [
        "# Naive Bayes"
      ]
    },
    {
      "cell_type": "markdown",
      "metadata": {
        "id": "BRS6sygsLV-G"
      },
      "source": [
        "## Model"
      ]
    },
    {
      "cell_type": "markdown",
      "metadata": {
        "id": "xdyNTg7Is-Z1"
      },
      "source": [
        "To predict the target column we want to use a Naive Bayes classifier. In this section, you must implement the functions of the `MixedDataNB` class. Assume continuous features follow a normal distribution. **Hint**: You need to train a Naive Bayes model that implements the likelihood function for categorical and continuous values in two different ways. Search for Gaussian NB and Multinomial NB. **Note**: Please feel free to modify the following class and its functions."
      ]
    },
    {
      "cell_type": "code",
      "execution_count": 22,
      "metadata": {
        "id": "7EnbOik9KW9f"
      },
      "outputs": [],
      "source": [
        "class GaussianNaiveBayes:\n",
        "    def __init__(self):\n",
        "        self.class_prior_ = None\n",
        "        self.class_means_ = None\n",
        "        self.class_variances_ = None\n",
        "\n",
        "    def fit(self, X, y):\n",
        "        self.class_prior_ = {}\n",
        "        for label in np.unique(y):\n",
        "            self.class_prior_[label] = np.sum(y == label) / len(y)\n",
        "        \n",
        "        self.class_means_ = {}\n",
        "        self.class_variances_ = {}\n",
        "        for label in np.unique(y):\n",
        "            X_class = X[y == label]\n",
        "            self.class_means_[label] = np.mean(X_class, axis=0)\n",
        "            self.class_variances_[label] = np.var(X_class, axis=0)\n",
        "\n",
        "    def _calculate_likelihood(self, x, mean, variance):\n",
        "        exponent = -((x - mean) ** 2) / (2 * variance)\n",
        "        return np.exp(exponent) / np.sqrt(2 * np.pi * variance)\n",
        "\n",
        "    def _calculate_posterior(self, X):\n",
        "        posteriors = {}\n",
        "        for label in self.class_prior_:\n",
        "            class_prior = self.class_prior_[label]\n",
        "            class_mean = self.class_means_[label]\n",
        "            class_variance = self.class_variances_[label]\n",
        "            likelihoods = np.apply_along_axis(self._calculate_likelihood, 1, X, class_mean, class_variance)\n",
        "            likelihoods_product = np.prod(likelihoods, axis=1)\n",
        "            posteriors[label] = likelihoods_product * class_prior\n",
        "        return posteriors\n",
        "\n",
        "    def predict_proba(self, X):\n",
        "        posteriors = self._calculate_posterior(X)\n",
        "        \n",
        "        sum_probs = np.sum(list(posteriors.values()), axis=0)\n",
        "        for label in posteriors:\n",
        "            posteriors[label] /= sum_probs\n",
        "            posteriors[label] = np.log(posteriors[label])\n",
        "        \n",
        "        return posteriors\n",
        "\n",
        "\n",
        "class MultinomialNaiveBayes:\n",
        "    def __init__(self, alpha=1):\n",
        "        self.alpha = alpha\n",
        "        self.class_prior_ = None\n",
        "        self.feature_prob_ = None\n",
        "\n",
        "    def fit(self, X, y):\n",
        "        self.class_prior_ = {}\n",
        "        for label in np.unique(y):\n",
        "            self.class_prior_[label] = np.sum(y == label) / len(y)\n",
        "        \n",
        "        self.feature_prob_ = {}\n",
        "        for label in np.unique(y):\n",
        "            self.feature_prob_[label] = {}\n",
        "            X_class = X[y == label]\n",
        "            class_total_count = np.sum(X_class)\n",
        "            for feature in range(X_class.shape[1]):\n",
        "                self.feature_prob_[label][feature] = {}\n",
        "                for feature_val in np.unique(X_class[:, feature]):\n",
        "                    self.feature_prob_[label][feature][feature_val] = np.sum(X_class[:, feature] == feature_val) / class_total_count\n",
        "\n",
        "    def predict_proba(self, X):\n",
        "        preds = {}\n",
        "        for c in self.class_prior_:\n",
        "            preds[c] = []\n",
        "            for sample in X:\n",
        "                likelihood = 0\n",
        "                for feature in range(len(sample)):\n",
        "                    if sample[feature] not in self.feature_prob_[c][feature]:\n",
        "                        self.feature_prob_[c][feature][sample[feature]] = 1\n",
        "                    likelihood += np.log(self.feature_prob_[c][feature][sample[feature]])\n",
        "                preds[c].append(likelihood)\n",
        "        return preds\n",
        "\n",
        "class MixedDataNB:\n",
        "    def __init__(self):\n",
        "        self.multinomial_nb = MultinomialNaiveBayes()\n",
        "        self.gaussian_nb = GaussianNaiveBayes()\n",
        "\n",
        "    def fit(self, X_discrete, X_continuous, y):\n",
        "        self.multinomial_nb.fit(X_discrete, y)\n",
        "        self.gaussian_nb.fit(X_continuous, y)\n",
        "\n",
        "    def predict(self, X_discrete, X_continuous):\n",
        "        multinomial_posterior = self.multinomial_nb.predict_proba(X_discrete)\n",
        "        gaussian_posterior = self.gaussian_nb.predict_proba(X_continuous)\n",
        "        comb_posterior = {}\n",
        "        for c in self.multinomial_nb.class_prior_:\n",
        "            comb_posterior[c] = multinomial_posterior[c] + gaussian_posterior[c]\n",
        "        preds = []\n",
        "        for sample in range(len(comb_posterior[0])):\n",
        "            if comb_posterior[0][sample] > comb_posterior[1][sample]:\n",
        "                preds.append(0)\n",
        "            else:\n",
        "                preds.append(1)\n",
        "        return preds"
      ]
    },
    {
      "cell_type": "markdown",
      "metadata": {
        "id": "RCcNBC_AOddW"
      },
      "source": [
        "## Train and Validation"
      ]
    },
    {
      "cell_type": "markdown",
      "metadata": {
        "id": "6KjeHMceOJTE"
      },
      "source": [
        "\n",
        "### Data splitting"
      ]
    },
    {
      "cell_type": "markdown",
      "metadata": {
        "id": "0ljWeBvFv65G"
      },
      "source": [
        "Split the training and validation data. Separate 20% of the data for validation."
      ]
    },
    {
      "cell_type": "code",
      "execution_count": 23,
      "metadata": {
        "id": "do-NG_s2bvql"
      },
      "outputs": [],
      "source": [
        "df = pd.read_csv(\"heart.csv\")\n",
        "X = df[['sex', 'cp', 'fbs', 'restecg', 'exang', 'slope', 'ca', 'thal', 'age', 'trestbps', 'chol', 'thalach', 'oldpeak']]\n",
        "y = df.loc[:, \"target\"].to_numpy()\n",
        "X_train, X_val, y_train, y_val = train_test_split(X, y, test_size=0.2, random_state=30)\n",
        "NB = MixedDataNB()"
      ]
    },
    {
      "cell_type": "markdown",
      "metadata": {
        "id": "7HbVGE0BwFoZ"
      },
      "source": [
        "### Model training"
      ]
    },
    {
      "cell_type": "code",
      "execution_count": 24,
      "metadata": {
        "id": "3uHjoYgQb5ed"
      },
      "outputs": [],
      "source": [
        "NB.fit(X_train[['sex', 'cp', 'fbs', 'restecg', 'exang', 'slope', 'ca', 'thal']].to_numpy(), X_train[cont_feature].to_numpy(), y_train)"
      ]
    },
    {
      "cell_type": "markdown",
      "metadata": {
        "id": "vfHEirlXwyeb"
      },
      "source": [
        "### Make predictions"
      ]
    },
    {
      "cell_type": "code",
      "execution_count": 25,
      "metadata": {
        "id": "PuN_GWEhwwUN"
      },
      "outputs": [],
      "source": [
        "predictions = NB.predict(X_val[['sex', 'cp', 'fbs', 'restecg', 'exang', 'slope', 'ca', 'thal']].to_numpy(), X_val[cont_feature].to_numpy())"
      ]
    },
    {
      "cell_type": "markdown",
      "metadata": {
        "id": "AiVuMqFNw2rS"
      },
      "source": [
        "### Accuracy"
      ]
    },
    {
      "cell_type": "markdown",
      "metadata": {
        "id": "zOsIA_F9xf3u"
      },
      "source": [
        "Get the accuracy of your model using the function you implemented."
      ]
    },
    {
      "cell_type": "code",
      "execution_count": 26,
      "metadata": {
        "id": "Q5auaGaCiZ2I"
      },
      "outputs": [
        {
          "name": "stdout",
          "output_type": "stream",
          "text": [
            "0.8634146341463415\n"
          ]
        }
      ],
      "source": [
        "print(accuracy_score(y_val, predictions))"
      ]
    },
    {
      "cell_type": "markdown",
      "metadata": {
        "id": "0BmtJ-iqQhN_"
      },
      "source": [
        "### Confusion Matrix"
      ]
    },
    {
      "cell_type": "markdown",
      "metadata": {
        "id": "lvj1QkeP3XPk"
      },
      "source": [
        "Now, using the functions you wrote, plot the confusion matrix for the model you trained."
      ]
    },
    {
      "cell_type": "code",
      "execution_count": 27,
      "metadata": {
        "id": "-nN1RNVopf-_"
      },
      "outputs": [],
      "source": [
        "my_cm = confusion_matrix(y_val, predictions, [0, 1])"
      ]
    },
    {
      "cell_type": "markdown",
      "metadata": {
        "id": "3Snbk3FeQyph"
      },
      "source": [
        "### F1 Score"
      ]
    },
    {
      "cell_type": "markdown",
      "metadata": {
        "id": "EGMYWaiT3rqc"
      },
      "source": [
        "Using your implemented functions in the previous section, calculate precision, recall and F1 score using confusion matrix. Then calculate all three metrics for your model."
      ]
    },
    {
      "cell_type": "code",
      "execution_count": 28,
      "metadata": {
        "id": "ElFj7NblojAf"
      },
      "outputs": [
        {
          "name": "stdout",
          "output_type": "stream",
          "text": [
            "[0.7961165  0.93137255]\n"
          ]
        }
      ],
      "source": [
        "print(recall_score(my_cm))"
      ]
    },
    {
      "cell_type": "code",
      "execution_count": 29,
      "metadata": {
        "id": "MySaWgxwojsw"
      },
      "outputs": [
        {
          "name": "stdout",
          "output_type": "stream",
          "text": [
            "[0.92134831 0.81896552]\n"
          ]
        }
      ],
      "source": [
        "print(precision_score(my_cm))"
      ]
    },
    {
      "cell_type": "code",
      "execution_count": 30,
      "metadata": {
        "id": "p_Sx4kv8ojz2"
      },
      "outputs": [
        {
          "name": "stdout",
          "output_type": "stream",
          "text": [
            "[0.85416667 0.87155963]\n"
          ]
        }
      ],
      "source": [
        "print(f1_score(my_cm))"
      ]
    },
    {
      "cell_type": "markdown",
      "metadata": {
        "id": "dEbb0kriPDu2"
      },
      "source": [
        "### Heatmap"
      ]
    },
    {
      "cell_type": "markdown",
      "metadata": {
        "id": "46_IPabaxvVL"
      },
      "source": [
        "By ploting the heatmap obtained for chol and oldpeak features from your model, compare the usefulness of these two features.\n"
      ]
    },
    {
      "cell_type": "code",
      "execution_count": 31,
      "metadata": {
        "id": "F9x7emkB6Uzn"
      },
      "outputs": [
        {
          "data": {
            "image/png": "[encoded data removed]",
            "text/plain": [
              "<Figure size 800x600 with 2 Axes>"
            ]
          },
          "metadata": {},
          "output_type": "display_data"
        }
      ],
      "source": [
        "correlation_matrix = df[['chol', 'oldpeak', 'target']].corr()\n",
        "\n",
        "# Plot heatmap\n",
        "plt.figure(figsize=(8, 6))\n",
        "sns.heatmap(correlation_matrix, annot=True, cmap='coolwarm', fmt=\".2f\")\n",
        "plt.title(\"Correlation Heatmap: chol vs oldpeak\")\n",
        "plt.show()"
      ]
    },
    {
      "cell_type": "markdown",
      "metadata": {
        "id": "N5E-qQQv2TgC"
      },
      "source": [
        "Train your model once by removing the chol feature and once by removing the oldpeak feature and calculate its accuracy. Compare the obtained results with the previous part."
      ]
    },
    {
      "cell_type": "markdown",
      "metadata": {
        "id": "1lKo-l15nI5E"
      },
      "source": [
        "Remove Chol and test model"
      ]
    },
    {
      "cell_type": "code",
      "execution_count": 32,
      "metadata": {
        "id": "Gb21jrDZjy2m"
      },
      "outputs": [
        {
          "name": "stdout",
          "output_type": "stream",
          "text": [
            "0.8585365853658536\n"
          ]
        }
      ],
      "source": [
        "NB.fit(X_train[['sex', 'cp', 'fbs', 'restecg', 'exang', 'slope', 'ca', 'thal']].to_numpy(), X_train[['age', 'trestbps', 'thalach', 'oldpeak']].to_numpy(), y_train)\n",
        "prediction_without_chol = NB.predict(X_val[['sex', 'cp', 'fbs', 'restecg', 'exang', 'slope', 'ca', 'thal']].to_numpy(), X_val[['age', 'trestbps', 'thalach', 'oldpeak']].to_numpy())\n",
        "print(accuracy_score(y_val, prediction_without_chol))\n"
      ]
    },
    {
      "cell_type": "markdown",
      "metadata": {
        "id": "1tb_XKwsnLYq"
      },
      "source": [
        "Remove oldpeak and test model"
      ]
    },
    {
      "cell_type": "code",
      "execution_count": 33,
      "metadata": {
        "id": "9IdEjL1GmDA3"
      },
      "outputs": [
        {
          "name": "stdout",
          "output_type": "stream",
          "text": [
            "0.8536585365853658\n"
          ]
        }
      ],
      "source": [
        "NB.fit(X_train[['sex', 'cp', 'fbs', 'restecg', 'exang', 'slope', 'ca', 'thal']].to_numpy(), X_train[['age', 'trestbps', 'thalach', 'chol']].to_numpy(), y_train)\n",
        "prediction_without_chol = NB.predict(X_val[['sex', 'cp', 'fbs', 'restecg', 'exang', 'slope', 'ca', 'thal']].to_numpy(), X_val[['age', 'trestbps', 'thalach', 'chol']].to_numpy())\n",
        "print(accuracy_score(y_val, prediction_without_chol))"
      ]
    },
    {
      "cell_type": "markdown",
      "metadata": {
        "id": "c9kuak-Wchp8"
      },
      "source": [
        "Comparison"
      ]
    },
    {
      "cell_type": "markdown",
      "metadata": {
        "id": "tuVe6m8zcjb5"
      },
      "source": [
        "**Answer:** accuracy slightly decreases when we remove oldpeak compared to chol. Which is as expected, considering heatmap plot that shows target and oldpeak have more correlation than target and chol"
      ]
    },
    {
      "cell_type": "markdown",
      "metadata": {
        "id": "RYDwVLDqkoXc"
      },
      "source": [
        "# Comparison"
      ]
    },
    {
      "cell_type": "markdown",
      "metadata": {
        "id": "PFGNM7y2krbl"
      },
      "source": [
        "Which model did better: the perceptron or the Naive Bayes model? What factors do you think influenced the difference in their performance?"
      ]
    },
    {
      "cell_type": "markdown",
      "metadata": {
        "id": "Gof1rS14kuOG"
      },
      "source": [
        "### Answer:"
      ]
    },
    {
      "cell_type": "markdown",
      "metadata": {
        "id": "q0Ogh-b03oUx"
      },
      "source": [
        "# Imbalanced Data"
      ]
    },
    {
      "cell_type": "markdown",
      "metadata": {
        "id": "mAgBI2ug4pYo"
      },
      "source": [
        "By using the model you designed and the functions you implemented, train your model on the three imbalanced data sets provided to you and calculate accuracy, recall, precision, and F1 score metrics for it each time. The confusion matrix should also be plotted each time. Finally, analyze based on the obtained results which accuracy and F1 score metrics are most appropriate for evaluating the model in imbalanced datasets. **Note:** In order to prevent code duplication, you are free to define functions and only use them with different datasets."
      ]
    },
    {
      "cell_type": "markdown",
      "metadata": {
        "id": "Wp4n9e5HaOVx"
      },
      "source": [
        "## First dataset"
      ]
    },
    {
      "cell_type": "markdown",
      "metadata": {
        "id": "J6PrUxRcS-Gx"
      },
      "source": [
        "### Load data"
      ]
    },
    {
      "cell_type": "code",
      "execution_count": 34,
      "metadata": {
        "id": "Eiupha6eTf8c"
      },
      "outputs": [],
      "source": [
        "df = pd.read_csv(\"Imbalanced_Datasets/1.csv\")"
      ]
    },
    {
      "cell_type": "markdown",
      "metadata": {
        "id": "uXddb_7dUG5u"
      },
      "source": [
        "### Find the distribution\n"
      ]
    },
    {
      "cell_type": "markdown",
      "metadata": {
        "id": "oFfEYF3LUm7e"
      },
      "source": [
        "Find the number of samples from each target label."
      ]
    },
    {
      "cell_type": "code",
      "execution_count": 35,
      "metadata": {
        "id": "UWKeH1VmUpB4"
      },
      "outputs": [
        {
          "name": "stdout",
          "output_type": "stream",
          "text": [
            "{0: 499, 1: 226}\n"
          ]
        }
      ],
      "source": [
        "class_number = {}\n",
        "for label in np.unique(df[\"target\"]):\n",
        "    class_number[label] = np.sum(df[\"target\"] == label)\n",
        "print(class_number)"
      ]
    },
    {
      "cell_type": "markdown",
      "metadata": {
        "id": "mcHFkGt6UCzM"
      },
      "source": [
        "### Split data"
      ]
    },
    {
      "cell_type": "code",
      "execution_count": 36,
      "metadata": {
        "id": "DRodEXYEUE5K"
      },
      "outputs": [],
      "source": [
        "X = df[['sex', 'cp', 'fbs', 'restecg', 'exang', 'slope', 'ca', 'thal', 'age', 'trestbps', 'chol', 'thalach', 'oldpeak']]\n",
        "y = df.loc[:, \"target\"].to_numpy()\n",
        "X_train, X_val, y_train, y_val = train_test_split(X, y, test_size=0.2, random_state=40)"
      ]
    },
    {
      "cell_type": "markdown",
      "metadata": {
        "id": "OVPEziogTMqP"
      },
      "source": [
        "### Train model and make predictions"
      ]
    },
    {
      "cell_type": "code",
      "execution_count": 37,
      "metadata": {
        "id": "UGX1KttKTgPz"
      },
      "outputs": [],
      "source": [
        "NB.fit(X_train[['sex', 'cp', 'fbs', 'restecg', 'exang', 'slope', 'ca', 'thal']].to_numpy(), X_train[cont_feature].to_numpy(), y_train)\n",
        "predictions = NB.predict(X_val[['sex', 'cp', 'fbs', 'restecg', 'exang', 'slope', 'ca', 'thal']].to_numpy(), X_val[cont_feature].to_numpy())"
      ]
    },
    {
      "cell_type": "markdown",
      "metadata": {
        "id": "5QS80Z9fTSJH"
      },
      "source": [
        "### Plot confusion matrix"
      ]
    },
    {
      "cell_type": "code",
      "execution_count": 38,
      "metadata": {
        "id": "72m9_9HvTgn7"
      },
      "outputs": [
        {
          "name": "stderr",
          "output_type": "stream",
          "text": [
            "C:\\Users\\Erfan\\AppData\\Local\\Temp\\ipykernel_20048\\1311168607.py:8: UserWarning: set_ticklabels() should only be used with a fixed number of ticks, i.e. after set_ticks() or using a FixedLocator.\n",
            "  ax.set_xticklabels([''] + labels)\n",
            "C:\\Users\\Erfan\\AppData\\Local\\Temp\\ipykernel_20048\\1311168607.py:9: UserWarning: set_ticklabels() should only be used with a fixed number of ticks, i.e. after set_ticks() or using a FixedLocator.\n",
            "  ax.set_yticklabels([''] + labels)\n"
          ]
        },
        {
          "data": {
            "image/png": "[encoded data removed]",
            "text/plain": [
              "<Figure size 640x480 with 2 Axes>"
            ]
          },
          "metadata": {},
          "output_type": "display_data"
        }
      ],
      "source": [
        "my_cm = confusion_matrix(y_val, predictions, [0, 1])\n",
        "plot_confusion_matrix(my_cm, [0, 1])"
      ]
    },
    {
      "cell_type": "markdown",
      "metadata": {
        "id": "MBQxSo1oTZkB"
      },
      "source": [
        "### Calculate metrics"
      ]
    },
    {
      "cell_type": "code",
      "execution_count": 39,
      "metadata": {
        "id": "U6vQI8fItr3y"
      },
      "outputs": [
        {
          "name": "stdout",
          "output_type": "stream",
          "text": [
            "accuracy_score = 0.8482758620689655\n",
            "f1_score = [0.87356322 0.81034483]\n",
            "recall_score = [0.82608696 0.88679245]\n",
            "precision_score = [0.92682927 0.74603175]\n"
          ]
        }
      ],
      "source": [
        "print(\"accuracy_score =\", accuracy_score(y_val, predictions))\n",
        "print(\"f1_score =\", f1_score(my_cm))\n",
        "print(\"recall_score =\", recall_score(my_cm))\n",
        "print(\"precision_score =\", precision_score(my_cm))"
      ]
    },
    {
      "cell_type": "markdown",
      "metadata": {
        "id": "CM968e-qah0g"
      },
      "source": [
        "## Second dataset"
      ]
    },
    {
      "cell_type": "markdown",
      "metadata": {
        "id": "i5EY_UPRah0n"
      },
      "source": [
        "### Load data"
      ]
    },
    {
      "cell_type": "code",
      "execution_count": 40,
      "metadata": {
        "id": "WCJt4rb8ah0n"
      },
      "outputs": [],
      "source": [
        "df = pd.read_csv(\"Imbalanced_Datasets/2.csv\")"
      ]
    },
    {
      "cell_type": "markdown",
      "metadata": {
        "id": "WT-pidZNah0n"
      },
      "source": [
        "### Find the distribution\n"
      ]
    },
    {
      "cell_type": "markdown",
      "metadata": {
        "id": "TvMMX9Paah0n"
      },
      "source": [
        "Find the number of samples from each target label."
      ]
    },
    {
      "cell_type": "code",
      "execution_count": 41,
      "metadata": {
        "id": "B_zQTT3nah0n"
      },
      "outputs": [
        {
          "name": "stdout",
          "output_type": "stream",
          "text": [
            "{0: 499, 1: 126}\n"
          ]
        }
      ],
      "source": [
        "class_number = {}\n",
        "for label in np.unique(df[\"target\"]):\n",
        "    class_number[label] = np.sum(df[\"target\"] == label)\n",
        "print(class_number)"
      ]
    },
    {
      "cell_type": "markdown",
      "metadata": {
        "id": "UtAGBCz5ah0n"
      },
      "source": [
        "### Split data"
      ]
    },
    {
      "cell_type": "code",
      "execution_count": 42,
      "metadata": {
        "id": "oWSWhuqkah0n"
      },
      "outputs": [],
      "source": [
        "X = df[['sex', 'cp', 'fbs', 'restecg', 'exang', 'slope', 'ca', 'thal', 'age', 'trestbps', 'chol', 'thalach', 'oldpeak']]\n",
        "y = df.loc[:, \"target\"].to_numpy()\n",
        "X_train, X_val, y_train, y_val = train_test_split(X, y, test_size=0.2, random_state=20)"
      ]
    },
    {
      "cell_type": "markdown",
      "metadata": {
        "id": "UgU9C0lcah0n"
      },
      "source": [
        "### Train model and make predictions"
      ]
    },
    {
      "cell_type": "code",
      "execution_count": 43,
      "metadata": {
        "id": "R_0U_L9Rah0n"
      },
      "outputs": [],
      "source": [
        "NB.fit(X_train[['sex', 'cp', 'fbs', 'restecg', 'exang', 'slope', 'ca', 'thal']].to_numpy(), X_train[cont_feature].to_numpy(), y_train)\n",
        "predictions = NB.predict(X_val[['sex', 'cp', 'fbs', 'restecg', 'exang', 'slope', 'ca', 'thal']].to_numpy(), X_val[cont_feature].to_numpy())"
      ]
    },
    {
      "cell_type": "markdown",
      "metadata": {
        "id": "_L6TQSzHah0n"
      },
      "source": [
        "### Plot confusion matrix"
      ]
    },
    {
      "cell_type": "code",
      "execution_count": 44,
      "metadata": {
        "id": "MYBVkHo4ah0n"
      },
      "outputs": [
        {
          "name": "stderr",
          "output_type": "stream",
          "text": [
            "C:\\Users\\Erfan\\AppData\\Local\\Temp\\ipykernel_20048\\1311168607.py:8: UserWarning: set_ticklabels() should only be used with a fixed number of ticks, i.e. after set_ticks() or using a FixedLocator.\n",
            "  ax.set_xticklabels([''] + labels)\n",
            "C:\\Users\\Erfan\\AppData\\Local\\Temp\\ipykernel_20048\\1311168607.py:9: UserWarning: set_ticklabels() should only be used with a fixed number of ticks, i.e. after set_ticks() or using a FixedLocator.\n",
            "  ax.set_yticklabels([''] + labels)\n"
          ]
        },
        {
          "data": {
            "image/png": "[encoded data removed]",
            "text/plain": [
              "<Figure size 640x480 with 2 Axes>"
            ]
          },
          "metadata": {},
          "output_type": "display_data"
        }
      ],
      "source": [
        "my_cm = confusion_matrix(y_val, predictions, [0, 1])\n",
        "plot_confusion_matrix(my_cm, [0, 1])"
      ]
    },
    {
      "cell_type": "markdown",
      "metadata": {
        "id": "c0XAiLBUah0o"
      },
      "source": [
        "### Calculate metrics"
      ]
    },
    {
      "cell_type": "code",
      "execution_count": 45,
      "metadata": {
        "id": "riRcbrlqah0o"
      },
      "outputs": [
        {
          "name": "stdout",
          "output_type": "stream",
          "text": [
            "accuracy_score = 0.872\n",
            "f1_score = [0.92156863 0.65217391]\n",
            "recall_score = [0.8952381 0.75     ]\n",
            "precision_score = [0.94949495 0.57692308]\n"
          ]
        }
      ],
      "source": [
        "print(\"accuracy_score =\", accuracy_score(y_val, predictions))\n",
        "print(\"f1_score =\", f1_score(my_cm))\n",
        "print(\"recall_score =\", recall_score(my_cm))\n",
        "print(\"precision_score =\", precision_score(my_cm))"
      ]
    },
    {
      "cell_type": "markdown",
      "metadata": {
        "id": "ZNu2VoZsak76"
      },
      "source": [
        "## Third dataset"
      ]
    },
    {
      "cell_type": "markdown",
      "metadata": {
        "id": "nXzFkXaLak8B"
      },
      "source": [
        "### Load data"
      ]
    },
    {
      "cell_type": "code",
      "execution_count": 46,
      "metadata": {
        "id": "HfD4l1G6ak8B"
      },
      "outputs": [],
      "source": [
        "df = pd.read_csv(\"Imbalanced_Datasets/3.csv\")"
      ]
    },
    {
      "cell_type": "markdown",
      "metadata": {
        "id": "tRg7HDJ-ak8B"
      },
      "source": [
        "### Find the distribution\n"
      ]
    },
    {
      "cell_type": "markdown",
      "metadata": {
        "id": "Lji-2CRSak8B"
      },
      "source": [
        "Find the number of samples from each target label."
      ]
    },
    {
      "cell_type": "code",
      "execution_count": 47,
      "metadata": {
        "id": "impG1HQFak8B"
      },
      "outputs": [
        {
          "name": "stdout",
          "output_type": "stream",
          "text": [
            "{0: 499, 1: 26}\n"
          ]
        }
      ],
      "source": [
        "class_number = {}\n",
        "for label in np.unique(df[\"target\"]):\n",
        "    class_number[label] = np.sum(df[\"target\"] == label)\n",
        "print(class_number)"
      ]
    },
    {
      "cell_type": "markdown",
      "metadata": {
        "id": "3pe45UaBak8C"
      },
      "source": [
        "### Split data"
      ]
    },
    {
      "cell_type": "code",
      "execution_count": 48,
      "metadata": {
        "id": "ze3YZgfmak8C"
      },
      "outputs": [],
      "source": [
        "X = df[['sex', 'cp', 'fbs', 'restecg', 'exang', 'slope', 'ca', 'thal', 'age', 'trestbps', 'chol', 'thalach', 'oldpeak']]\n",
        "y = df.loc[:, \"target\"].to_numpy()\n",
        "X_train, X_val, y_train, y_val = train_test_split(X, y, test_size=0.2, random_state=30)"
      ]
    },
    {
      "cell_type": "markdown",
      "metadata": {
        "id": "N64rNbxmak8C"
      },
      "source": [
        "### Train model and make predictions"
      ]
    },
    {
      "cell_type": "code",
      "execution_count": 49,
      "metadata": {
        "id": "gvA0wDxYak8C"
      },
      "outputs": [],
      "source": [
        "NB.fit(X_train[['sex', 'cp', 'fbs', 'restecg', 'exang', 'slope', 'ca', 'thal']].to_numpy(), X_train[cont_feature].to_numpy(), y_train)\n",
        "predictions = NB.predict(X_val[['sex', 'cp', 'fbs', 'restecg', 'exang', 'slope', 'ca', 'thal']].to_numpy(), X_val[cont_feature].to_numpy())"
      ]
    },
    {
      "cell_type": "markdown",
      "metadata": {
        "id": "r4kXMUclak8C"
      },
      "source": [
        "### Plot confusion matrix"
      ]
    },
    {
      "cell_type": "code",
      "execution_count": 50,
      "metadata": {
        "id": "ZEaCqPgrak8C"
      },
      "outputs": [
        {
          "name": "stderr",
          "output_type": "stream",
          "text": [
            "C:\\Users\\Erfan\\AppData\\Local\\Temp\\ipykernel_20048\\1311168607.py:8: UserWarning: set_ticklabels() should only be used with a fixed number of ticks, i.e. after set_ticks() or using a FixedLocator.\n",
            "  ax.set_xticklabels([''] + labels)\n",
            "C:\\Users\\Erfan\\AppData\\Local\\Temp\\ipykernel_20048\\1311168607.py:9: UserWarning: set_ticklabels() should only be used with a fixed number of ticks, i.e. after set_ticks() or using a FixedLocator.\n",
            "  ax.set_yticklabels([''] + labels)\n"
          ]
        },
        {
          "data": {
            "image/png": "[encoded data removed]",
            "text/plain": [
              "<Figure size 640x480 with 2 Axes>"
            ]
          },
          "metadata": {},
          "output_type": "display_data"
        }
      ],
      "source": [
        "my_cm = confusion_matrix(y_val, predictions, [0, 1])\n",
        "plot_confusion_matrix(my_cm, [0, 1])"
      ]
    },
    {
      "cell_type": "markdown",
      "metadata": {
        "id": "EFjScq2yak8D"
      },
      "source": [
        "### Calculate metrics"
      ]
    },
    {
      "cell_type": "code",
      "execution_count": 51,
      "metadata": {
        "id": "x8GSV1_5ak8D"
      },
      "outputs": [
        {
          "name": "stdout",
          "output_type": "stream",
          "text": [
            "accuracy_score = 0.8476190476190476\n",
            "f1_score = [0.91489362 0.27272727]\n",
            "recall_score = [0.86 0.6 ]\n",
            "precision_score = [0.97727273 0.17647059]\n"
          ]
        }
      ],
      "source": [
        "print(\"accuracy_score =\", accuracy_score(y_val, predictions))\n",
        "print(\"f1_score =\", f1_score(my_cm))\n",
        "print(\"recall_score =\", recall_score(my_cm))\n",
        "print(\"precision_score =\", precision_score(my_cm))"
      ]
    },
    {
      "cell_type": "markdown",
      "metadata": {
        "id": "5NDXj0qEZ3u_"
      },
      "source": [
        "## Comparison"
      ]
    },
    {
      "cell_type": "markdown",
      "metadata": {
        "id": "HvHYNnEEZ5to"
      },
      "source": [
        "Based on the obtained results which accuracy and F1 score metrics are most appropriate for evaluating the model in imbalanced datasets?"
      ]
    },
    {
      "cell_type": "markdown",
      "metadata": {
        "id": "LqGtCJLtaKhN"
      },
      "source": [
        "**Answer:** accuracy may not provide a comprehensive evaluation of model performance in imbalanced datasets. Metrics such as F1 score, precision, and recall offer a more nuanced understanding of how well the model performs across both classes, making them more suitable for evaluating imbalanced datasets."
      ]
    }
  ],
  "metadata": {
    "colab": {
      "collapsed_sections": [
        "utNwgYmlKvfm",
        "bjntS4nxH4Hs",
        "TNo6F7XEH7p3",
        "phw5_4uEIgyY",
        "NOo1N_ZaKHPg",
        "js3fx5A2lnR6",
        "GoPThTyLnd0N",
        "54V2QMyQoAQr",
        "0u9hzezSo48b",
        "RYDwVLDqkoXc",
        "q0Ogh-b03oUx"
      ],
      "provenance": []
    },
    "kernelspec": {
      "display_name": "Python 3",
      "name": "python3"
    },
    "language_info": {
      "codemirror_mode": {
        "name": "ipython",
        "version": 3
      },
      "file_extension": ".py",
      "mimetype": "text/x-python",
      "name": "python",
      "nbconvert_exporter": "python",
      "pygments_lexer": "ipython3",
      "version": "3.11.5"
    }
  },
  "nbformat": 4,
  "nbformat_minor": 0
}
